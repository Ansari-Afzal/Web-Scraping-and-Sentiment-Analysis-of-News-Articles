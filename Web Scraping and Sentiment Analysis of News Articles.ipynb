{
 "cells": [
  {
   "cell_type": "code",
   "execution_count": 1,
   "id": "ae8a3ee8",
   "metadata": {},
   "outputs": [],
   "source": [
    "# Import necessary packages\n",
    "import requests\n",
    "from bs4 import BeautifulSoup\n",
    "import pandas as pd\n",
    "import os\n",
    "import nltk\n",
    "from nltk.tokenize import word_tokenize\n",
    "from nltk.corpus import stopwords\n",
    "import re"
   ]
  },
  {
   "cell_type": "code",
   "execution_count": 2,
   "id": "99d0ea1c",
   "metadata": {},
   "outputs": [
    {
     "name": "stderr",
     "output_type": "stream",
     "text": [
      "[nltk_data] Downloading package punkt to\n",
      "[nltk_data]     C:\\Users\\AFZAL\\AppData\\Roaming\\nltk_data...\n",
      "[nltk_data]   Package punkt is already up-to-date!\n",
      "[nltk_data] Downloading package stopwords to\n",
      "[nltk_data]     C:\\Users\\AFZAL\\AppData\\Roaming\\nltk_data...\n",
      "[nltk_data]   Package stopwords is already up-to-date!\n"
     ]
    },
    {
     "data": {
      "text/plain": [
       "True"
      ]
     },
     "execution_count": 2,
     "metadata": {},
     "output_type": "execute_result"
    }
   ],
   "source": [
    "# Download NLTK resources\n",
    "nltk.download('punkt')\n",
    "nltk.download('stopwords')"
   ]
  },
  {
   "cell_type": "code",
   "execution_count": 3,
   "id": "e03565ab",
   "metadata": {},
   "outputs": [],
   "source": [
    "# Read the URL file into a pandas DataFrame\n",
    "df = pd.read_excel('Input.xlsx')"
   ]
  },
  {
   "cell_type": "code",
   "execution_count": 5,
   "id": "6f00aaaf",
   "metadata": {},
   "outputs": [],
   "source": [
    "# Ensure the output directory exists\n",
    "output_dir = 'TitleText'\n",
    "os.makedirs(output_dir, exist_ok=True)"
   ]
  },
  {
   "cell_type": "code",
   "execution_count": 29,
   "id": "90eb8c7d",
   "metadata": {},
   "outputs": [],
   "source": [
    "# Track the URLs that failed during scraping\n",
    "failed_urls = []"
   ]
  },
  {
   "cell_type": "code",
   "execution_count": 30,
   "id": "9ee68046",
   "metadata": {},
   "outputs": [
    {
     "name": "stdout",
     "output_type": "stream",
     "text": [
      "Can't get response for URL_ID blackassign0036\n",
      "Can't get response for URL_ID blackassign0049\n"
     ]
    }
   ],
   "source": [
    "# Loop through each row in the DataFrame\n",
    "for index, row in df.iterrows():\n",
    "    url = row['URL']\n",
    "    url_id = row['URL_ID']\n",
    "\n",
    "    # Make a request to the URL\n",
    "    header = {'User-Agent': \"Mozilla/5.0 (Windows NT 10.0; Win64; x64) AppleWebKit/537.36 (KHTML, like Gecko) Chrome/108.0.0.0 Safari/537.36\"}\n",
    "    try:\n",
    "        response = requests.get(url, headers=header)\n",
    "        response.raise_for_status()\n",
    "    except:\n",
    "        print(f\"Can't get response for URL_ID {url_id}\")\n",
    "        failed_urls.append(url_id)\n",
    "        continue\n",
    "\n",
    "    # Create a BeautifulSoup object\n",
    "    try:\n",
    "        soup = BeautifulSoup(response.content, 'html.parser')\n",
    "    except:\n",
    "        print(f\"Can't parse page for URL_ID {url_id}\")\n",
    "        failed_urls.append(url_id)\n",
    "        continue\n",
    "\n",
    "    # Find title\n",
    "    try:\n",
    "        title = soup.find('h1').get_text()\n",
    "    except:\n",
    "        print(f\"Can't get title for URL_ID {url_id}\")\n",
    "        failed_urls.append(url_id)\n",
    "        continue\n",
    "\n",
    "    # Find text\n",
    "    article = \"\"\n",
    "    try:\n",
    "        for p in soup.find_all('p'):\n",
    "            article += p.get_text()\n",
    "    except:\n",
    "        print(f\"Can't get text for URL_ID {url_id}\")\n",
    "        failed_urls.append(url_id)\n",
    "        continue\n",
    "\n",
    "    # Write title and text to the file\n",
    "    file_name = f'{output_dir}/{url_id}.txt'\n",
    "    with open(file_name, 'w', encoding='utf-8') as file:\n",
    "        file.write(title + '\\n' + article)\n",
    "\n"
   ]
  },
  {
   "cell_type": "code",
   "execution_count": 31,
   "id": "864c5b13",
   "metadata": {},
   "outputs": [],
   "source": [
    "# Directories\n",
    "text_dir = \"C:/Users/AFZAL/Downloads/20211030 Test Assignment/TitleText\"\n",
    "stopwords_dir = \"C:/Users/AFZAL/Downloads/20211030 Test Assignment/StopWords\"\n",
    "sentiment_dir = \"C:/Users/AFZAL/Downloads/20211030 Test Assignment/MasterDictionary\""
   ]
  },
  {
   "cell_type": "code",
   "execution_count": 33,
   "id": "6cd2e2ca",
   "metadata": {},
   "outputs": [],
   "source": [
    "# Load all stop words from the stopwords directory and store in a set\n",
    "stop_words = set()\n",
    "for file in os.listdir(stopwords_dir):\n",
    "    with open(os.path.join(stopwords_dir, file), 'r', encoding='ISO-8859-1') as f:\n",
    "        stop_words.update(set(f.read().splitlines()))"
   ]
  },
  {
   "cell_type": "code",
   "execution_count": 34,
   "id": "656a4880",
   "metadata": {},
   "outputs": [],
   "source": [
    "# Load all text files from the directory and store in a list (docs)\n",
    "docs = []\n",
    "for text_file in os.listdir(text_dir):\n",
    "    with open(os.path.join(text_dir, text_file), 'r', encoding='utf-8') as f:\n",
    "        text = f.read()\n",
    "        # Tokenize the text\n",
    "        words = word_tokenize(text)\n",
    "        # Remove stop words from the tokens\n",
    "        filtered_text = [word for word in words if word.lower() not in stop_words]\n",
    "        # Add each filtered tokens of each file into a list\n",
    "        docs.append(filtered_text)"
   ]
  },
  {
   "cell_type": "code",
   "execution_count": 35,
   "id": "3569d457",
   "metadata": {},
   "outputs": [],
   "source": [
    "# Store positive and negative words from the directory\n",
    "pos = set()\n",
    "neg = set()\n",
    "\n",
    "for file in os.listdir(sentiment_dir):\n",
    "    if file == 'positive-words.txt':\n",
    "        with open(os.path.join(sentiment_dir, file), 'r', encoding='ISO-8859-1') as f:\n",
    "            pos.update(f.read().splitlines())\n",
    "    elif file == 'negative-words.txt':\n",
    "        with open(os.path.join(sentiment_dir, file), 'r', encoding='ISO-8859-1') as f:\n",
    "            neg.update(f.read().splitlines())"
   ]
  },
  {
   "cell_type": "code",
   "execution_count": 36,
   "id": "961d8ecb",
   "metadata": {},
   "outputs": [],
   "source": [
    "# Collect the positive and negative words from each file and calculate the scores\n",
    "positive_words = []\n",
    "negative_words = []\n",
    "positive_score = []\n",
    "negative_score = []\n",
    "polarity_score = []\n",
    "subjectivity_score = []"
   ]
  },
  {
   "cell_type": "code",
   "execution_count": 37,
   "id": "d01080c2",
   "metadata": {},
   "outputs": [],
   "source": [
    "# Iterate through the list of docs\n",
    "for doc in docs:\n",
    "    positive = [word for word in doc if word.lower() in pos]\n",
    "    negative = [word for word in doc if word.lower() in neg]\n",
    "    positive_words.append(positive)\n",
    "    negative_words.append(negative)\n",
    "    positive_score.append(len(positive))\n",
    "    negative_score.append(len(negative))\n",
    "    polarity_score.append((len(positive) - len(negative)) / ((len(positive) + len(negative)) + 0.000001))\n",
    "    subjectivity_score.append((len(positive) + len(negative)) / (len(doc) + 0.000001))"
   ]
  },
  {
   "cell_type": "code",
   "execution_count": 38,
   "id": "5e88ed65",
   "metadata": {},
   "outputs": [],
   "source": [
    "# Functions to calculate various readability metrics\n",
    "def measure(file):\n",
    "    with open(os.path.join(text_dir, file), 'r', encoding='utf-8') as f:\n",
    "        text = f.read()\n",
    "        text = re.sub(r'[^\\w\\s.]', '', text)\n",
    "        sentences = text.split('.')\n",
    "        num_sentences = len(sentences)\n",
    "        words = [word for word in text.split() if word.lower() not in stopwords.words('english')]\n",
    "        num_words = len(words)\n",
    "\n",
    "        complex_words = [word for word in words if sum(1 for letter in word if letter.lower() in 'aeiou') > 2]\n",
    "\n",
    "        syllable_count = 0\n",
    "        syllable_words = []\n",
    "        for word in words:\n",
    "            if word.endswith('es'):\n",
    "                word = word[:-2]\n",
    "            elif word.endswith('ed'):\n",
    "                word = word[:-2]\n",
    "            syllable_count_word = sum(1 for letter in word if letter.lower() in 'aeiou')\n",
    "            if syllable_count_word >= 1:\n",
    "                syllable_words.append(word)\n",
    "                syllable_count += syllable_count_word\n",
    "\n",
    "        avg_sentence_len = num_words / num_sentences\n",
    "        avg_syllable_word_count = syllable_count / len(syllable_words)\n",
    "        percent_complex_words = len(complex_words) / num_words\n",
    "        fog_index = 0.4 * (avg_sentence_len + percent_complex_words)\n",
    "\n",
    "        return avg_sentence_len, percent_complex_words, fog_index, len(complex_words), avg_syllable_word_count\n",
    "\n",
    "avg_sentence_length = []\n",
    "percentage_of_complex_words = []\n",
    "fog_index = []\n",
    "complex_word_count = []\n",
    "avg_syllable_word_count = []"
   ]
  },
  {
   "cell_type": "code",
   "execution_count": 39,
   "id": "dd48a809",
   "metadata": {},
   "outputs": [],
   "source": [
    "# Iterate through each file or doc\n",
    "for file in os.listdir(text_dir):\n",
    "    x, y, z, a, b = measure(file)\n",
    "    avg_sentence_length.append(x)\n",
    "    percentage_of_complex_words.append(y)\n",
    "    fog_index.append(z)\n",
    "    complex_word_count.append(a)\n",
    "    avg_syllable_word_count.append(b)"
   ]
  },
  {
   "cell_type": "code",
   "execution_count": 40,
   "id": "2d5a7780",
   "metadata": {},
   "outputs": [],
   "source": [
    "# Function to calculate word count and average word length\n",
    "def cleaned_words(file):\n",
    "    with open(os.path.join(text_dir, file), 'r', encoding='utf-8') as f:\n",
    "        text = f.read()\n",
    "        text = re.sub(r'[^\\w\\s]', '', text)\n",
    "        words = [word for word in text.split() if word.lower() not in stopwords.words('english')]\n",
    "        length = sum(len(word) for word in words)\n",
    "        average_word_length = length / len(words)\n",
    "    return len(words), average_word_length\n",
    "\n",
    "word_count = []\n",
    "average_word_length = []"
   ]
  },
  {
   "cell_type": "code",
   "execution_count": 41,
   "id": "af299663",
   "metadata": {},
   "outputs": [],
   "source": [
    "# Iterate through each file or doc\n",
    "for file in os.listdir(text_dir):\n",
    "    x, y = cleaned_words(file)\n",
    "    word_count.append(x)\n",
    "    average_word_length.append(y)\n"
   ]
  },
  {
   "cell_type": "code",
   "execution_count": 42,
   "id": "2147e403",
   "metadata": {},
   "outputs": [],
   "source": [
    "# Function to count personal pronouns\n",
    "def count_personal_pronouns(file):\n",
    "    with open(os.path.join(text_dir, file), 'r', encoding='utf-8') as f:\n",
    "        text = f.read()\n",
    "        personal_pronouns = [\"I\", \"we\", \"my\", \"ours\", \"us\"]\n",
    "        count = 0\n",
    "        for pronoun in personal_pronouns:\n",
    "            count += len(re.findall(r\"\\b\" + pronoun + r\"\\b\", text))\n",
    "    return count\n",
    "\n",
    "pp_count = []"
   ]
  },
  {
   "cell_type": "code",
   "execution_count": 43,
   "id": "f560bace",
   "metadata": {},
   "outputs": [],
   "source": [
    "# Iterate through each file or doc\n",
    "for file in os.listdir(text_dir):\n",
    "    x = count_personal_pronouns(file)\n",
    "    pp_count.append(x)\n"
   ]
  },
  {
   "cell_type": "code",
   "execution_count": 44,
   "id": "f521382f",
   "metadata": {},
   "outputs": [],
   "source": [
    "# Load the output structure and populate it with the calculated values\n",
    "output_df = pd.read_excel('Output Data Structure.xlsx')\n"
   ]
  },
  {
   "cell_type": "code",
   "execution_count": 46,
   "id": "c19156f0",
   "metadata": {},
   "outputs": [],
   "source": [
    "# Remove rows corresponding to failed URLs\n",
    "output_df = output_df[~output_df['URL_ID'].isin(failed_urls)]\n"
   ]
  },
  {
   "cell_type": "code",
   "execution_count": 47,
   "id": "f7a4cd56",
   "metadata": {},
   "outputs": [],
   "source": [
    "# List of variables to be added to the output DataFrame\n",
    "variables = [\n",
    "    positive_score, negative_score, polarity_score, subjectivity_score,\n",
    "    avg_sentence_length, percentage_of_complex_words, fog_index,\n",
    "    avg_sentence_length, complex_word_count, word_count,\n",
    "    avg_syllable_word_count, pp_count, average_word_length\n",
    "]\n"
   ]
  },
  {
   "cell_type": "code",
   "execution_count": 48,
   "id": "896e432d",
   "metadata": {},
   "outputs": [],
   "source": [
    "# Ensure the lengths of the variables match the number of rows in the DataFrame\n",
    "for var in variables:\n",
    "    if len(var) != len(output_df):\n",
    "        raise ValueError(f\"Length mismatch: variable length {len(var)} does not match DataFrame length {len(output_df)}\")"
   ]
  },
  {
   "cell_type": "code",
   "execution_count": 49,
   "id": "3d553def",
   "metadata": {},
   "outputs": [],
   "source": [
    "# Write the values to the DataFrame\n",
    "for i, var in enumerate(variables):\n",
    "    output_df.iloc[:, i+2] = var\n"
   ]
  },
  {
   "cell_type": "code",
   "execution_count": 50,
   "id": "102b6aad",
   "metadata": {},
   "outputs": [],
   "source": [
    "# Save the DataFrame to disk\n",
    "output_df.to_csv('Output_Data.csv', index=False)"
   ]
  },
  {
   "cell_type": "code",
   "execution_count": null,
   "id": "8613f119",
   "metadata": {},
   "outputs": [],
   "source": []
  }
 ],
 "metadata": {
  "kernelspec": {
   "display_name": "Python 3 (ipykernel)",
   "language": "python",
   "name": "python3"
  },
  "language_info": {
   "codemirror_mode": {
    "name": "ipython",
    "version": 3
   },
   "file_extension": ".py",
   "mimetype": "text/x-python",
   "name": "python",
   "nbconvert_exporter": "python",
   "pygments_lexer": "ipython3",
   "version": "3.11.5"
  }
 },
 "nbformat": 4,
 "nbformat_minor": 5
}
